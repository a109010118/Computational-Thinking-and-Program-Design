{
  "nbformat": 4,
  "nbformat_minor": 0,
  "metadata": {
    "colab": {
      "name": "Untitled0.ipynb",
      "provenance": [],
      "authorship_tag": "ABX9TyNsWLZWFNFDde7pfO6bZAcw",
      "include_colab_link": true
    },
    "kernelspec": {
      "name": "python3",
      "display_name": "Python 3"
    },
    "language_info": {
      "name": "python"
    }
  },
  "cells": [
    {
      "cell_type": "markdown",
      "metadata": {
        "id": "view-in-github",
        "colab_type": "text"
      },
      "source": [
        "<a href=\"https://colab.research.google.com/github/a109010118/Computational-Thinking-and-Program-Design/blob/main/a109010118%20%E5%B7%AB%E5%81%89%E9%8A%98%20%E7%B7%B4%E7%BF%92%E4%BD%9C%E6%A5%ADweek9.ipynb\" target=\"_parent\"><img src=\"https://colab.research.google.com/assets/colab-badge.svg\" alt=\"Open In Colab\"/></a>"
      ]
    },
    {
      "cell_type": "code",
      "metadata": {
        "colab": {
          "base_uri": "https://localhost:8080/",
          "height": 250
        },
        "id": "0EeAv15azvmV",
        "outputId": "f8c5bac2-3d69-4487-9b72-c0c4ed29b539"
      },
      "source": [
        " ## Input\n",
        " a,b,c,d,e,f = eval(input(\"Enter a number\"))\n",
        "\n",
        "\n",
        " ## Process + Output\n",
        "\n",
        " a = a//3; b = b + a; f = f + a\n",
        "# print(\"a =\", a , \"b =\", \"c =\", c, \"d =\", d, \"e =\", e,\"f =\",)\n",
        " print(f\"a = {a} b = {b} c = {c} d = {d} e = {e} f = {f}\")\n",
        "\n",
        "b = b//3; a = a + b; c = c + b\n",
        "print(f\"a = {a} b = {b} c = {c} d = {d} e = {e} f = {f}\")\n",
        "\n",
        "c = c//3; b = b + c; d = d + c\n",
        "print(f\"a = {a} b = {b} c = {c} d = {d} e = {e} f = {f}\")\n",
        "\n",
        "d = d//3; c= c + d; e = e + d\n",
        "print(f\"a = {a} b = {b} c = {c} d = {d} e = {e} f = {f}\")\n",
        "\n",
        "e = e//3; d= d + e; f = f + e\n",
        "print(f\"a = {a} b = {b} c = {c} d = {d} e = {e} f = {f}\")\n"
      ],
      "execution_count": 1,
      "outputs": [
        {
          "output_type": "stream",
          "text": [
            "Enter a number6\n"
          ],
          "name": "stdout"
        },
        {
          "output_type": "error",
          "ename": "TypeError",
          "evalue": "ignored",
          "traceback": [
            "\u001b[0;31m---------------------------------------------------------------------------\u001b[0m",
            "\u001b[0;31mTypeError\u001b[0m                                 Traceback (most recent call last)",
            "\u001b[0;32m<ipython-input-1-f4040c795fce>\u001b[0m in \u001b[0;36m<module>\u001b[0;34m()\u001b[0m\n\u001b[1;32m      1\u001b[0m \u001b[0;31m## Input\u001b[0m\u001b[0;34m\u001b[0m\u001b[0;34m\u001b[0m\u001b[0;34m\u001b[0m\u001b[0m\n\u001b[0;32m----> 2\u001b[0;31m \u001b[0ma\u001b[0m\u001b[0;34m,\u001b[0m\u001b[0mb\u001b[0m\u001b[0;34m,\u001b[0m\u001b[0mc\u001b[0m\u001b[0;34m,\u001b[0m\u001b[0md\u001b[0m\u001b[0;34m,\u001b[0m\u001b[0me\u001b[0m\u001b[0;34m,\u001b[0m\u001b[0mf\u001b[0m \u001b[0;34m=\u001b[0m \u001b[0meval\u001b[0m\u001b[0;34m(\u001b[0m\u001b[0minput\u001b[0m\u001b[0;34m(\u001b[0m\u001b[0;34m\"Enter a number\"\u001b[0m\u001b[0;34m)\u001b[0m\u001b[0;34m)\u001b[0m\u001b[0;34m\u001b[0m\u001b[0;34m\u001b[0m\u001b[0m\n\u001b[0m\u001b[1;32m      3\u001b[0m \u001b[0;34m\u001b[0m\u001b[0m\n\u001b[1;32m      4\u001b[0m \u001b[0;34m\u001b[0m\u001b[0m\n\u001b[1;32m      5\u001b[0m \u001b[0;31m## Process + Output\u001b[0m\u001b[0;34m\u001b[0m\u001b[0;34m\u001b[0m\u001b[0;34m\u001b[0m\u001b[0m\n",
            "\u001b[0;31mTypeError\u001b[0m: cannot unpack non-iterable int object"
          ]
        }
      ]
    }
  ]
}