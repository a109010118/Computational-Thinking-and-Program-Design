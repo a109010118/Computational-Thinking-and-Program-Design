{
 "cells": [
  {
   "cell_type": "markdown",
   "metadata": {},
   "source": [
    "# 基本程式設計(應用篇)"
   ]
  },
  {
   "cell_type": "markdown",
   "metadata": {},
   "source": [
    "### 4-2 運算思維四個基石"
   ]
  },
  {
   "cell_type": "markdown",
   "metadata": {},
   "source": [
    "#### 4-2-4  問題拆解 - 打造你的聊天機器人"
   ]
  },
  {
   "cell_type": "markdown",
   "metadata": {},
   "source": [
    "「哈囉，大家好。我叫Zyxo64，是一個聊天機器人。\n",
    "\n",
    "在嗜好與興趣方面，我很喜歡美食，也喜歡養動物。\n",
    "\n",
    "很高興有機會來到世新大學，請大家多多指教。\n",
    "\n",
    "嗨！妳好，請問大名？：Francis。\n",
    "\n",
    "Francis，很高興認識你。"
   ]
  },
  {
   "cell_type": "code",
   "execution_count": null,
   "metadata": {},
   "outputs": [],
   "source": [
    "# 1.聊天機器人自我介紹\n",
    "\n",
    "\n",
    "# 2. 打招呼，取得對方名字\n"
   ]
  },
  {
   "cell_type": "markdown",
   "metadata": {},
   "source": [
    "抱歉，請問一下今年是西元2021年，那是民國幾年呢？：*110*。\n",
    "\n",
    "對！沒錯，謝謝妳！\n",
    "\n",
    "**Francis**，猜猜看我今年幾歲？ ：**18**。\n",
    "\n",
    "哇！你好聰明，我今年的確*18*。\n",
    "\n",
    "再82年我就100歲了。\n",
    "\n",
    "那時候是西元 2103年，也就是民國192年囉！"
   ]
  },
  {
   "cell_type": "code",
   "execution_count": null,
   "metadata": {},
   "outputs": [],
   "source": [
    "# 3. 數學運算\n",
    "## 3-1 從使用者取得今年年份\n",
    "\n",
    "\n",
    "## 3-2 請使用者猜年齡\n",
    "\n",
    "\n",
    "## 3-3 計算聊天機器人滿100歲的年份\n",
    "\n"
   ]
  },
  {
   "cell_type": "markdown",
   "metadata": {},
   "source": [
    "我喜歡吃巧克力，也喜歡嘗試各種新食物。\n",
    "\n",
    "你呢？你最喜歡的食物是什麼？**:披薩**。\n",
    "\n",
    "我也喜歡 *披薩*。\n",
    "\n",
    "你多久吃一次 *披薩*？**：每天**。\n",
    "\n",
    "真有趣。不知道這樣對健康好不好。"
   ]
  },
  {
   "cell_type": "code",
   "execution_count": null,
   "metadata": {},
   "outputs": [],
   "source": [
    "# 4 興趣\n",
    "## 4-1 食物話題\n"
   ]
  },
  {
   "cell_type": "markdown",
   "metadata": {},
   "source": [
    "我最喜歡的動物是長頸鹿。你呢？ **：烏龜**。\n",
    "\n",
    "我不喜歡*烏龜*！\n",
    "\n",
    "不知道 *烏龜* 喜不喜歡吃 *披薩*？"
   ]
  },
  {
   "cell_type": "code",
   "execution_count": null,
   "metadata": {},
   "outputs": [],
   "source": [
    "# 4 興趣\n",
    "## 4-2 動物話題\n"
   ]
  },
  {
   "cell_type": "markdown",
   "metadata": {},
   "source": [
    "你今天的心情如何？ **：很開心**。\n",
    "\n",
    "可以告訴我你 *開心* 的原因嗎？**因為週末了！** \n",
    "\n",
    "祝你週末愉快！\n",
    "\n",
    "我喜歡跟你聊天，現在有點累了，改天再聊吧！！\n",
    "\n",
    "再見 *Francis*！"
   ]
  },
  {
   "cell_type": "code",
   "execution_count": null,
   "metadata": {},
   "outputs": [],
   "source": [
    "# 5. 關於心情的對話\n"
   ]
  },
  {
   "cell_type": "markdown",
   "metadata": {},
   "source": [
    "我喜歡跟你聊天，現在有點累了，改天再聊吧！！\n",
    "\n",
    "再見 *Francis*！"
   ]
  },
  {
   "cell_type": "code",
   "execution_count": null,
   "metadata": {},
   "outputs": [],
   "source": [
    "# 6. 道別\n"
   ]
  },
  {
   "cell_type": "markdown",
   "metadata": {},
   "source": [
    "## 期末報告"
   ]
  },
  {
   "cell_type": "markdown",
   "metadata": {},
   "source": [
    "### 組長(學號姓名):\n",
    "\n"
   ]
  },
  {
   "cell_type": "markdown",
   "metadata": {},
   "source": [
    "### 組員(學號姓名):\n",
    "\n"
   ]
  },
  {
   "cell_type": "markdown",
   "metadata": {},
   "source": [
    "### 題目:"
   ]
  },
  {
   "cell_type": "markdown",
   "metadata": {},
   "source": [
    "### 百字腳本\n",
    "\n"
   ]
  }
 ],
 "metadata": {
  "kernelspec": {
   "display_name": "Python 3",
   "language": "python",
   "name": "python3"
  },
  "language_info": {
   "codemirror_mode": {
    "name": "ipython",
    "version": 3
   },
   "file_extension": ".py",
   "mimetype": "text/x-python",
   "name": "python",
   "nbconvert_exporter": "python",
   "pygments_lexer": "ipython3",
   "version": "3.8.5"
  }
 },
 "nbformat": 4,
 "nbformat_minor": 4
}
