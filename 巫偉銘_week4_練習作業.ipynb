{
  "nbformat": 4,
  "nbformat_minor": 0,
  "metadata": {
    "colab": {
      "name": "巫偉銘-week4-練習作業.ipynb",
      "provenance": [],
      "collapsed_sections": [],
      "authorship_tag": "ABX9TyNlJCWiQtpSVlVuo/IsB7r+",
      "include_colab_link": true
    },
    "kernelspec": {
      "name": "python3",
      "display_name": "Python 3"
    }
  },
  "cells": [
    {
      "cell_type": "markdown",
      "metadata": {
        "id": "view-in-github",
        "colab_type": "text"
      },
      "source": [
        "<a href=\"https://colab.research.google.com/github/a109010118/Computational-Thinking-and-Program-Design/blob/main/%E5%B7%AB%E5%81%89%E9%8A%98_week4_%E7%B7%B4%E7%BF%92%E4%BD%9C%E6%A5%AD.ipynb\" target=\"_parent\"><img src=\"https://colab.research.google.com/assets/colab-badge.svg\" alt=\"Open In Colab\"/></a>"
      ]
    },
    {
      "cell_type": "markdown",
      "metadata": {
        "id": "dCE7-kWDX2tp"
      },
      "source": [
        "#隨堂練習"
      ]
    },
    {
      "cell_type": "markdown",
      "metadata": {
        "id": "teAYOsXmYCyL"
      },
      "source": [
        "#課後練習"
      ]
    },
    {
      "cell_type": "markdown",
      "metadata": {
        "id": "TmPlHOGcYhPm"
      },
      "source": [
        "**一則新聞報導，提出你對新聞系（OO系）學生為什麼要學「運算思維與程式設計」的見解。（告訴我新聞連結，以及你的觀點即可。）**"
      ]
    },
    {
      "cell_type": "markdown",
      "metadata": {
        "id": "M6pjvNPqZVBd"
      },
      "source": [
        "https://www.managertoday.com.tw/articles/view/55799"
      ]
    },
    {
      "cell_type": "markdown",
      "metadata": {
        "id": "7V_CCMuyb48Y"
      },
      "source": [
        "一開始看到課表的時候，我對於運算思維與程式語言感到陌生及疑惑，直到我在網路上看到了這篇文章，我才了解到，原來不管到哪都會運用到這些東西，讓我們做事的效率大幅提升也更有邏輯了，未來科技面的應用會越來越廣泛，也越來越多元，學會如何應用才能隨時因應新科技的改變，也可以更快的接收到最新的資訊，讓我多一種新的技能增加更多解決的辦法。\r\n",
        "\r\n"
      ]
    },
    {
      "cell_type": "code",
      "metadata": {
        "id": "_WwDfcrchaad"
      },
      "source": [
        ""
      ],
      "execution_count": null,
      "outputs": []
    }
  ]
}