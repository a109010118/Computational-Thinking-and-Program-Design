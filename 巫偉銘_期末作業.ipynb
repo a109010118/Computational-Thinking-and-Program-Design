{
  "nbformat": 4,
  "nbformat_minor": 0,
  "metadata": {
    "colab": {
      "name": "巫偉銘 期末作業.ipynb",
      "provenance": [],
      "authorship_tag": "ABX9TyNf+D0B8TID63J2fLvkfv5j",
      "include_colab_link": true
    },
    "kernelspec": {
      "name": "python3",
      "display_name": "Python 3"
    },
    "language_info": {
      "name": "python"
    }
  },
  "cells": [
    {
      "cell_type": "markdown",
      "metadata": {
        "id": "view-in-github",
        "colab_type": "text"
      },
      "source": [
        "<a href=\"https://colab.research.google.com/github/a109010118/Computational-Thinking-and-Program-Design/blob/main/%E5%B7%AB%E5%81%89%E9%8A%98_%E6%9C%9F%E6%9C%AB%E4%BD%9C%E6%A5%AD.ipynb\" target=\"_parent\"><img src=\"https://colab.research.google.com/assets/colab-badge.svg\" alt=\"Open In Colab\"/></a>"
      ]
    },
    {
      "cell_type": "code",
      "metadata": {
        "id": "QU0GDJd7SgAf"
      },
      "source": [
        "print(\"小華平時做事情前都會詢問手機助理banana\")\n",
        "print(\"今天也不例外\")\n",
        "print(\"而今天你要扮演小華的手機助理banana\")\n",
        "print(\"展開新的一天\")\n",
        "day = input(\"在開始新的一天前，請問今天禮拜幾呢?{一/二/三...}\")\n",
        "if day ==\"一\" or day ==\"三\" or day ==\"五\":\n",
        "  print(\"今天是平日，要上課，並且要穿制服\")\n",
        "  if day ==\"一\" or \"二\" or \"三\" or \"四\" or \"五\":\n",
        "    print(\"小華起床準備去上學 \")\n",
        "    time = input(\"出門的時候時間顯示幾分呢?{0~60}\")\n",
        "    print(\"小華出門去上課了\")\n",
        "    if time <=\"30\": \n",
        "       print(\"現在時間還來的及，可以搭校車\") \n",
        "    else:\n",
        "       print(\"時間來不及了!趕快去搭計程車 \")\n",
        "\n",
        "    print(\"經過一陣子的車程，小華到學校了，但這時還沒開始上課\")   \n",
        "    print(\"由於出門前沒帶早餐，因此想去買早餐吃，但不知道哪間比較好，於是小華決定問banana哪間的評分更高\")   \n",
        "    food = input(\"小華:「嘿banana!前面這A,B,C三間早餐店如何{A/B/C}」\")\n",
        "    if food ==\"A\":\n",
        "       print(\"這間早餐店評分有4.8顆星，大家都推薦吃這間\")\n",
        "       print(\"小華決定吃這間，果真很好吃\")\n",
        "       print(\"由於吃到了好吃的早餐，小華一整天都生龍活虎，畢竟好的早晨是成功的一半!\")\n",
        "       print(\"精神專注的一天使小華學到許多課堂的知識\")\n",
        "       print(\"因此小華開始複習課堂，對成績也有了成就感，學業蒸蒸日上，也開始教同學功課，一切都很好\")\n",
        "    elif food ==\"B\":\n",
        "       print(\"這間早餐店評分是3.9顆星，如果A早餐店沒開可以吃這間\")\n",
        "       print(\"小華看了看，決定試試看這間早餐店\")\n",
        "       print(\"吃完後小華明白了好壞是比較出來的，他很後悔沒有選擇A早餐店\")\n",
        "       print(\"放學回家後，小華想要玩個電動結束充實的一天\")\n",
        "       print(\"但不知道要玩甚麼，所以小明請banana隨便挑一款遊戲\")\n",
        "       play = (input(\"請問BANANA要幫小華選擇哪款遊戲呢?GTA[0] Switch[1] PS5[2] \"))\n",
        "       if play ==\"0\" :\n",
        "           print(\"小華玩GTA時，看到遊戲人物津津有味地吃著早餐，想到沒吃到A早餐店覺得可惜，於是立馬準備就寢，只希望明天吃的到早餐\")\n",
        "       if play ==\"1\":\n",
        "            print(\"小華玩了動物森友會覺得裡面的動物規律生活值得效仿，於是開始養成早睡早起的好習慣\")\n",
        "       if play ==\"2\":\n",
        "            print(\"小華原本要玩PS5，可是想到沒有錢買遊戲片，因此之後開始兼差去打工\")  \n",
        "      \n",
        "    elif food ==\"C\":\n",
        "       print(\"這間早餐店評分只有2.1顆星而且很髒，建議不要吃，不過依你的個性，你肯定不會聽我的\")\n",
        "       print(\"小華嚷嚷的說「這你也知道，我還不來試試看嘛?\")\n",
        "       print(\"小華吃完後肚子賊疼，原來是吃到了腐爛的蟑螂，因此被送往醫院急救，小華的一天就這麼結束了。\")\n",
        "\n",
        "    else:是大寫的ABC喔\n",
        "      \n",
        " \n",
        "\n",
        "\n",
        "elif day ==\"二\" or day ==\"四\":\n",
        "  print(\"今天是平日，要上課，並且要穿體育服\")\n",
        "  if day ==\"一\" or \"二\" or \"三\" or \"四\" or \"五\":\n",
        "    print(\"小華起床準備去上學 \")\n",
        "    time = input(\"出門的時候時間顯示幾分呢?\")\n",
        "    if time <=\"30\": \n",
        "       print(\"現在時間還來的及，可以搭校車\")\n",
        "       print(\"到了學校，因為體育課是第一堂，所以小華立刻前進\") \n",
        "       print(\"體育課這禮拜上的是足球，這是小華最愛的運動\")\n",
        "       print(\"但是在盡情奔跑的時候，不小心摔斷了腿，緊急送醫後好險並無大礙，靜養一陣子就能康復\")\n",
        "    if time > \"30\":\n",
        "       print(\"時間來不及了!趕快去搭計程車 \")\n",
        "       print(\"即使小華搭了計程車，還是沒有上到心心念念最愛的體育課\")\n",
        "   \n",
        "     \n",
        "\n",
        "elif day ==\"六\" or day ==\"七\":\n",
        "  print(\"今天是假日，可以好好休息\")\n",
        "elif day ==\"1\"  or day ==\"2\" or day ==\"3\" or day ==\"4\" or day == \"5\" or day ==\"6\" or day ==\"7\":\n",
        "  print(\"請用中文數字打，謝謝ΟεΟ\")\n",
        "else:\n",
        "  print(\"一周只有七天喔!\")"
      ],
      "execution_count": null,
      "outputs": []
    }
  ]
}